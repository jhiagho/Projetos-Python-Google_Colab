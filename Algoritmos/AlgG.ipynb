{
  "nbformat": 4,
  "nbformat_minor": 0,
  "metadata": {
    "colab": {
      "provenance": [],
      "collapsed_sections": [
        "Lzj9j_MUweEs"
      ],
      "authorship_tag": "ABX9TyPFiG4STNPUmZ9xSqK4ETx2",
      "include_colab_link": true
    },
    "kernelspec": {
      "name": "python3",
      "display_name": "Python 3"
    },
    "language_info": {
      "name": "python"
    }
  },
  "cells": [
    {
      "cell_type": "markdown",
      "metadata": {
        "id": "view-in-github",
        "colab_type": "text"
      },
      "source": [
        "<a href=\"https://colab.research.google.com/github/jhiagho/Hiagho-Junio/blob/master/Algoritmo%20Gen%C3%A9tico%20aplicado%20na%20mochila.\" target=\"_parent\"><img src=\"https://colab.research.google.com/assets/colab-badge.svg\" alt=\"Open In Colab\"/></a>"
      ]
    },
    {
      "cell_type": "code",
      "source": [
        "import random\n",
        "import numpy as np\n",
        "from random import randint, choice, random"
      ],
      "metadata": {
        "id": "ii0aKq-tIeaH"
      },
      "execution_count": null,
      "outputs": []
    },
    {
      "cell_type": "code",
      "source": [
        "class Populacao:\n",
        "  def __init__(self,vetor,fit,peso,p):\n",
        "    self.vetor = vetor\n",
        "    self.fit = fit\n",
        "    self.peso = peso\n",
        "    self.p = p\n",
        "    self.prob = 0\n",
        "\n",
        "  def setfit(self,V):\n",
        "    cont = 0\n",
        "    for i in range(self.p):\n",
        "      cont += self.vetor[i]*V[i]\n",
        "    self.fit = cont\n",
        "\n",
        "  def setpeso(self,W):\n",
        "    cont = 0\n",
        "    for i in range(self.p):\n",
        "      cont += self.vetor[i]*W[i]\n",
        "    self.peso = cont\n",
        "  \n",
        "  def setprob(self,totalFit):\n",
        "    self.prob = self.fit / totalFit\n",
        "  \n",
        "  def __gt__(self,outher):\n",
        "    return (self.fit > outher.fit)\n",
        "  \n",
        "    #for in \n",
        "  #def setPeso(self,W):"
      ],
      "metadata": {
        "id": "ec63HFtcspJ3"
      },
      "execution_count": null,
      "outputs": []
    },
    {
      "cell_type": "code",
      "source": [
        "def somaFit(vet,g):\n",
        "  totalfit = 0\n",
        "  for i in range(g):\n",
        "    totalfit += vet[i].fit\n",
        "  return totalfit"
      ],
      "metadata": {
        "id": "my8PKNH3zGVU"
      },
      "execution_count": null,
      "outputs": []
    },
    {
      "cell_type": "code",
      "source": [
        "def Acomula(vet,g):\n",
        "  Acomulafit = []\n",
        "  for i in range(g):\n",
        "    if(i == 0):\n",
        "      Acomulafit.append(vet[0].fit)\n",
        "    else:\n",
        "      Acomulafit.append(Acomulafit[i-1] + vet[i].fit)\n",
        "  return Acomulafit"
      ],
      "metadata": {
        "id": "CtUi871xd2Fr"
      },
      "execution_count": null,
      "outputs": []
    },
    {
      "cell_type": "code",
      "source": [
        "def roleta(total_fit,Acomula,vet):\n",
        "  sorteio = randint(0,total_fit)\n",
        "  i = -1 #posição escolhadia esta definindo em i\n",
        "  while(total_fit > 0):\n",
        "    i = i + 1\n",
        "    if(sorteio > Acomula[i-1] and sorteio <= Acomula[i] and i > 0):\n",
        "      return i\n",
        "    elif(sorteio > 0 and sorteio <= Acomula[i] and i == 0):\n",
        "      return i\n",
        "    total_fit -= vet[i].fit"
      ],
      "metadata": {
        "id": "BoKMYYSVW-2G"
      },
      "execution_count": null,
      "outputs": []
    },
    {
      "cell_type": "code",
      "source": [
        "def crossover1point_2(l,q,p):\n",
        "    l = list(l)\n",
        "    q = list(q)\n",
        "  \n",
        "    k = randint(0, p-1)\n",
        "    #print(\"Crossover point :\", k)\n",
        "  \n",
        "# interchanging the genes\n",
        "    for i in range(k, p):\n",
        "        l[i], q[i] = q[i], l[i]\n",
        "    #l = ''.join(l)\n",
        "    #q = ''.join(q)\n",
        "    return l, q"
      ],
      "metadata": {
        "id": "lwhvJYA1pDbU"
      },
      "execution_count": null,
      "outputs": []
    },
    {
      "cell_type": "code",
      "source": [
        "def mutacao(prob,Com,p,g):\n",
        "  mutate = prob #0.05\n",
        "  for i in range(g):\n",
        "    if mutate > random():\n",
        "      pos_gene_sel = randint(0,p-1)\n",
        "      if Com[i].vetor[pos_gene_sel] == 1:\n",
        "        Com[i].vetor[pos_gene_sel] = 0\n",
        "      else:\n",
        "        Com[i].vetor[pos_gene_sel] = 1\n",
        "  return Com"
      ],
      "metadata": {
        "id": "xUECKgF2Cml4"
      },
      "execution_count": 215,
      "outputs": []
    },
    {
      "cell_type": "code",
      "source": [
        "def gera_populacao(p):\n",
        "  vet = []\n",
        "  Geracao = []\n",
        "  for i in range(p):\n",
        "    vet.append(randint(0,1))\n",
        "  return vet"
      ],
      "metadata": {
        "id": "WrNO3nyZLIb9"
      },
      "execution_count": null,
      "outputs": []
    },
    {
      "cell_type": "code",
      "source": [
        "def gera_geracao(V,W,p,g):\n",
        "  Geracao = []\n",
        "  for i in range(g):\n",
        "    vet = gera_populacao(p)\n",
        "    aux = Populacao(vet,0,0,p)\n",
        "    aux.setfit(V)\n",
        "    aux.setpeso(W)\n",
        "    Geracao.append(aux)\n",
        "    #print(\"População: \",Geracao[i].vetor,\"fit: \",Geracao[i].fit,\"Peso: \",Geracao[i].peso)\n",
        "  return Geracao"
      ],
      "metadata": {
        "id": "jJFXaF7_OAzs"
      },
      "execution_count": null,
      "outputs": []
    },
    {
      "cell_type": "code",
      "source": [
        "# ------------------- Pre-Inicializar as variáveis e inicializar população inicial ----------------\n",
        "Comunidade = []\n",
        "Geracao = []\n",
        "Melhor_Resultado = []\n",
        "p = 12 # numeros de genes\n",
        "g = 4 # numeros de população\n",
        "pesomax = 200\n",
        "V = [10,45,40,91,18,50,71,50,59,100,20,17]\n",
        "W = [12,40,26,32,18,15,25,30,20,98,10,27]\n",
        "\n",
        "Geracao1 = gera_geracao(V,W,p,g)\n",
        "Geracao2 = gera_geracao(V,W,p,g)\n",
        "Comunidade = Geracao1 + Geracao2"
      ],
      "metadata": {
        "id": "h88gRUgRS2Jn"
      },
      "execution_count": 261,
      "outputs": []
    },
    {
      "cell_type": "markdown",
      "source": [
        ",35,23,14,5,26,30,10,18 //\n",
        ",15,12,8,16,40,15,19,9"
      ],
      "metadata": {
        "id": "m099I2Dk3xJ1"
      }
    },
    {
      "cell_type": "code",
      "source": [
        "# Processo do algoritmo genético.\n",
        "Melhor_Individuo_L = Populacao([],0,0,p)\n",
        "Melhor_Individuo_G = Populacao([],0,0,p)\n",
        "cont_gcao = 0\n",
        "while(cont_gcao < 50):\n",
        "  Comunidade.sort(key=lambda x: x.fit, reverse=True)\n",
        "  g = len(Comunidade)\n",
        "  # Reprodução considerando 100% (pegando dois pares)\n",
        "  #print(\"\\nSelecionar os indivídos para a Reprodução (100%):..\\n\")\n",
        "  # ----------- Calular a probilidade de cada fit e peso -----------------\n",
        "  # --------------- Cria as probilidade baseado nas roletas. -------------\n",
        "  # --------------- Roda a roleta (1). -----------------------------------\n",
        "  Selecionados = []\n",
        "  aux1 = Comunidade.copy()\n",
        "  cont1 = 0\n",
        "  cont2 = 0\n",
        "  Vetor_C1 = [] # vetor crossover\n",
        "  Vetor_C2 = []\n",
        "  Sel_Crossover = []\n",
        "  g_copy = g\n",
        "\n",
        "  # ---------------- Roda a Roleta 6 vezes  e Crossover-> 100% ---------------------------------\n",
        "  while (cont1 < g):\n",
        "    Totalfit = somaFit(aux1,g_copy)\n",
        "    AcomulaFit = Acomula(aux1,g_copy)\n",
        "    posicao = roleta(Totalfit,AcomulaFit,aux1)\n",
        "\n",
        "    #print(\"Indivíduo: \",posicao)\n",
        "    if (posicao != None):\n",
        "      Selecionados.append(aux1[posicao])\n",
        "      Totalfit -= aux1[posicao].fit\n",
        "      cont2 += 1\n",
        "      del(aux1[posicao])\n",
        "    if (cont2 == 2): #crossover\n",
        "      Vetor_C1,Vetor_C2 = crossover1point_2(Selecionados[0].vetor,Selecionados[1].vetor,p)\n",
        "      Sel_Crossover.append(Populacao(Vetor_C1,0,0,p))\n",
        "      Sel_Crossover.append(Populacao(Vetor_C2,0,0,p))\n",
        "      cont2 = 0\n",
        "      Selecionados.clear()\n",
        "    cont1 += 1\n",
        "    g_copy -= 1\n",
        "\n",
        "  g = len(Sel_Crossover)\n",
        "  for i in range(g):\n",
        "    Sel_Crossover[i].setfit(V)\n",
        "    Sel_Crossover[i].setpeso(W)\n",
        "    #print(\"População_Cruzada: \", Sel_Crossover[i].vetor,\"fit: \", Sel_Crossover[i].fit,\"Peso: \", Sel_Crossover[i].peso)\n",
        "\n",
        "  # ----------------- Aplicar Multação nos indíveos dependendo do caso ---------------\n",
        "\n",
        "  mutate = 0.10 #10%\n",
        "  Comunidade_Nova = mutacao(mutate,Sel_Crossover,p,g)\n",
        "  for i in range(g):\n",
        "    Comunidade_Nova[i].setfit(V)\n",
        "    Comunidade_Nova[i].setpeso(W)\n",
        "  Comunidade_Nova.sort(key=lambda x: x.fit, reverse=True)\n",
        "  Comunidade_Nova1 = []\n",
        "\n",
        "# AJUSTE POPULACIONAL\n",
        "\n",
        "  cont = 0\n",
        "  while(cont < g):\n",
        "    if (Comunidade_Nova[cont].peso < pesomax and Comunidade_Nova[cont].peso > pesomax*0.80):\n",
        "      Comunidade_Nova1.append(Comunidade_Nova[cont])\n",
        "      Melhor_Individuo_L = Comunidade_Nova[cont]\n",
        "    cont += 1\n",
        "    if (Melhor_Individuo_G.peso == 0):\n",
        "      Melhor_Individuo_G = Melhor_Individuo_L\n",
        "    else:\n",
        "      if(Melhor_Individuo_G.peso < Melhor_Individuo_L.peso):\n",
        "        Melhor_Individuo_G = Melhor_Individuo_L\n",
        "\n",
        "  # # ----------------- Melhores indivídeos ---------------\n",
        "\n",
        "  Comunidade.clear()\n",
        "  aux5 = []\n",
        "  if(g < 8):\n",
        "    h = 8 - g\n",
        "    aux5 = gera_geracao(V,W,p,h)\n",
        "  Comunidade = Comunidade_Nova1 + aux5\n",
        "  cont_gcao += 1\n",
        "\n",
        "print(\"MELHOR INDIVÌDUO: \", Melhor_Individuo_G.vetor,\"fit: \", Melhor_Individuo_G.fit,\"Peso: \", Melhor_Individuo_G.peso)"
      ],
      "metadata": {
        "id": "89FiD7WHDZAg",
        "colab": {
          "base_uri": "https://localhost:8080/"
        },
        "outputId": "0e052877-ee7b-4d52-e996-6e3caf78d80d"
      },
      "execution_count": 284,
      "outputs": [
        {
          "output_type": "stream",
          "name": "stdout",
          "text": [
            "MELHOR INDIVÌDUO:  [1, 0, 1, 0, 1, 1, 0, 1, 0, 1, 0, 0] fit:  268 Peso:  199\n"
          ]
        }
      ]
    },
    {
      "cell_type": "markdown",
      "source": [
        "Rodando em 50 gerações.0"
      ],
      "metadata": {
        "id": "okantc437tv_"
      }
    },
    {
      "cell_type": "markdown",
      "source": [
        "## Código antigo"
      ],
      "metadata": {
        "id": "Lzj9j_MUweEs"
      }
    },
    {
      "cell_type": "code",
      "source": [
        "def fitness(V,matriz,p,g):\n",
        "  cont = 0\n",
        "  aux = [0] * p\n",
        "  for i in range(p):\n",
        "    for j in range(g):\n",
        "      cont += V[j]*matriz[i][j]\n",
        "    aux[i] = cont\n",
        "    cont = 0\n",
        "  return aux"
      ],
      "metadata": {
        "id": "E1jdTxdWLoFA"
      },
      "execution_count": null,
      "outputs": []
    },
    {
      "cell_type": "code",
      "source": [
        "def peso(W,matriz,p,g):\n",
        "  cont = 0\n",
        "  aux = [0] * p\n",
        "  for i in range(p):\n",
        "    for j in range(g):\n",
        "      cont += W[j]*matriz[i][j]\n",
        "    aux[i] = cont\n",
        "    cont = 0\n",
        "  return aux"
      ],
      "metadata": {
        "id": "7KXxDdAJC104"
      },
      "execution_count": null,
      "outputs": []
    },
    {
      "cell_type": "code",
      "source": [
        "# Primeiro passo: Gerar a população Inicial e os dados. Onde W e o peso e V e o peso.\n",
        "p = 5\n",
        "g = 5\n",
        "pesomax = 80\n",
        "V = [15,90,50,60,12]\n",
        "W = [10,40,26,32,8] \n",
        "matriz = gera_populacao(p,g)\n",
        "print(matriz)"
      ],
      "metadata": {
        "colab": {
          "base_uri": "https://localhost:8080/",
          "height": 227
        },
        "id": "agULQgIKHEwj",
        "outputId": "7b31a06f-8a27-4e73-e797-a2eabca6d865"
      },
      "execution_count": null,
      "outputs": [
        {
          "output_type": "error",
          "ename": "TypeError",
          "evalue": "ignored",
          "traceback": [
            "\u001b[0;31m---------------------------------------------------------------------------\u001b[0m",
            "\u001b[0;31mTypeError\u001b[0m                                 Traceback (most recent call last)",
            "\u001b[0;32m<ipython-input-123-4267db4ffd36>\u001b[0m in \u001b[0;36m<module>\u001b[0;34m\u001b[0m\n\u001b[1;32m      5\u001b[0m \u001b[0mV\u001b[0m \u001b[0;34m=\u001b[0m \u001b[0;34m[\u001b[0m\u001b[0;36m15\u001b[0m\u001b[0;34m,\u001b[0m\u001b[0;36m90\u001b[0m\u001b[0;34m,\u001b[0m\u001b[0;36m50\u001b[0m\u001b[0;34m,\u001b[0m\u001b[0;36m60\u001b[0m\u001b[0;34m,\u001b[0m\u001b[0;36m12\u001b[0m\u001b[0;34m]\u001b[0m\u001b[0;34m\u001b[0m\u001b[0;34m\u001b[0m\u001b[0m\n\u001b[1;32m      6\u001b[0m \u001b[0mW\u001b[0m \u001b[0;34m=\u001b[0m \u001b[0;34m[\u001b[0m\u001b[0;36m10\u001b[0m\u001b[0;34m,\u001b[0m\u001b[0;36m40\u001b[0m\u001b[0;34m,\u001b[0m\u001b[0;36m26\u001b[0m\u001b[0;34m,\u001b[0m\u001b[0;36m32\u001b[0m\u001b[0;34m,\u001b[0m\u001b[0;36m8\u001b[0m\u001b[0;34m]\u001b[0m\u001b[0;34m\u001b[0m\u001b[0;34m\u001b[0m\u001b[0m\n\u001b[0;32m----> 7\u001b[0;31m \u001b[0mmatriz\u001b[0m \u001b[0;34m=\u001b[0m \u001b[0mgera_populacao\u001b[0m\u001b[0;34m(\u001b[0m\u001b[0mp\u001b[0m\u001b[0;34m,\u001b[0m\u001b[0mg\u001b[0m\u001b[0;34m)\u001b[0m\u001b[0;34m\u001b[0m\u001b[0;34m\u001b[0m\u001b[0m\n\u001b[0m\u001b[1;32m      8\u001b[0m \u001b[0mprint\u001b[0m\u001b[0;34m(\u001b[0m\u001b[0mmatriz\u001b[0m\u001b[0;34m)\u001b[0m\u001b[0;34m\u001b[0m\u001b[0;34m\u001b[0m\u001b[0m\n",
            "\u001b[0;31mTypeError\u001b[0m: gera_populacao() takes 1 positional argument but 2 were given"
          ]
        }
      ]
    },
    {
      "cell_type": "code",
      "source": [
        "# Segundo passo criar fitness e ordenar com a primeira população.\n",
        "\n",
        "fit = fitness(V,matriz,p,g)\n",
        "print(\"primeiro fit: \",fit)\n",
        "fit.sort(reverse = True)\n",
        "print(\"Fit ordenada: \",fit)\n",
        "\n",
        "pes = peso(W,matriz,p,g)\n",
        "print(\"Peso: \",pes)\n",
        "pes.sort(reverse = True)\n",
        "print(\"Peso ordenada: \",fit)\n",
        "\n",
        "\n",
        "\n",
        "# a primeira linha representa o primeiro cromosomo, e a primeira posição do fit representa o fitness do primeiro cromossomo\n",
        "# REPRODUÇÂO"
      ],
      "metadata": {
        "id": "RMWXvPEOLmoB"
      },
      "execution_count": null,
      "outputs": []
    },
    {
      "cell_type": "code",
      "source": [
        "# calcula da probiblidade.\n",
        "\n",
        "for i in range(g):\n",
        "  Comunidade[i].setprob(Totalfit)\n",
        "  Roletaprob.append(Comunidade[i].prob)\n",
        "  print(Roletaprob[i],\"\\t\")\n"
      ],
      "metadata": {
        "id": "EKqmhEpw5NSp"
      },
      "execution_count": null,
      "outputs": []
    },
    {
      "cell_type": "code",
      "source": [
        "# for i in range(g):\n",
        "#   if(Comunidade[i].prob == probi):\n",
        "#     aux = Comunidade[i]\n",
        "#     del Comunidade[i]\n",
        "\n",
        "# 01. var pesos[10]:int = {1,1,1,1,2,3,4,5,5,5};\n",
        "# 02  var somaPeso:int = 0;\n",
        "# 03. PARA var i=0 ATE 9 FAÇA\n",
        "# 04.   somaPeso+=pesos[i];\n",
        "# 05. FIMPARA\n",
        "\n",
        "# 06. var sorteio:INT = ALEATORIO(0,somaPeso);\n",
        "# 07. var posicaoEscolhida = -1;\n",
        "# 08. FAÇA:\n",
        "# 09.    posicaoEscolhida++;\n",
        "# 10.    somaPeso -= pesos[posicaoEscolhida];\n",
        "# 11. ENQUANTO(somaPeso>0);\n"
      ],
      "metadata": {
        "id": "W-4PIlbpSTnC"
      },
      "execution_count": null,
      "outputs": []
    },
    {
      "cell_type": "code",
      "source": [
        "def crossover1point(Sel1,Sel2,p):\n",
        "  x = randint(1,p-1)\n",
        "  print(\"Crossover point :\", x)\n",
        "  Novo_Vet1 = np.append(Sel1[:x],Sel2[x:])\n",
        "  Novo_Vet2 = np.append(Sel2[:x],Sel1[x:])\n",
        "  Vet1 = list(Novo_Vet1)\n",
        "  Vet2 = list(Novo_Vet2)\n",
        "  return Vet1,Vet2"
      ],
      "metadata": {
        "id": "tcqe4Vk8CV7j"
      },
      "execution_count": null,
      "outputs": []
    },
    {
      "cell_type": "code",
      "source": [
        "def crossover2point(Sel1,Sel2,x):\n",
        "  for i in x:\n",
        "    Sel1,Sel2 = crossover1point(Sel1,Sel2,i)\n",
        "  return Sel1,Sel2"
      ],
      "metadata": {
        "id": "czbJU92tCity"
      },
      "execution_count": null,
      "outputs": []
    },
    {
      "cell_type": "code",
      "source": [
        "p = 5\n",
        "vet = [1,1,1,1,1]\n",
        "a = Populacao(vet,0,0,p)\n",
        "vet = [1,1,1,0,1]\n",
        "b = Populacao(vet,1,0,p)\n",
        "vet = [1,1,0,1,1]\n",
        "d = Populacao(vet,2,0,p)\n",
        "vet = [1,0,1,1,1]\n",
        "e = Populacao(vet,3,0,p)\n",
        "vet = [0,1,1,1,1]\n",
        "f = Populacao(vet,4,0,p)\n",
        "\n",
        "#if (a > b):\n",
        "  # print(a.vetor)\n",
        "  # print(a.fit)\n",
        "  # print(a.peso)\n",
        "  # print(b.vetor)\n",
        "  # print(b.fit)\n",
        "  # print(b.peso)\n",
        "#else:\n",
        "  # print(b.vetor)\n",
        "  # print(b.fit)\n",
        "  # print(b.peso)\n",
        "  # print(a.vetor)\n",
        "  # print(a.fit)\n",
        "  # print(a.peso)\n",
        "c = []\n",
        "c.append(a)\n",
        "c.append(b)\n",
        "c.append(d)\n",
        "c.append(e)\n",
        "c.append(f)\n",
        "c.sort(key=lambda x: x.fit, reverse=True)\n",
        "for i in range(5):\n",
        "  print(c[i].vetor)\n",
        "  print(c[i].fit)\n",
        "  print(c[i].peso)\n",
        "\n",
        "print(\"\\n depois \\n\")\n",
        "del(c[0])\n",
        "for i in range(4):\n",
        "  print(c[i].vetor)\n",
        "  print(c[i].fit)\n",
        "  print(c[i].peso)\n",
        "\n",
        "print(\"\\n depois2 \\n\")\n",
        "c.clear()\n",
        "c.append(a)\n",
        "c.append(b)\n",
        "for i in range(3):\n",
        "  print(c[i].vetor)\n",
        "  print(c[i].fit)\n",
        "  print(c[i].peso)"
      ],
      "metadata": {
        "id": "MHEearoJMERh",
        "colab": {
          "base_uri": "https://localhost:8080/",
          "height": 965
        },
        "outputId": "2eaff8dd-f6de-4560-f01b-d538108b21d6"
      },
      "execution_count": null,
      "outputs": [
        {
          "output_type": "stream",
          "name": "stdout",
          "text": [
            "[0, 1, 1, 1, 1]\n",
            "4\n",
            "0\n",
            "[1, 0, 1, 1, 1]\n",
            "3\n",
            "0\n",
            "[1, 1, 0, 1, 1]\n",
            "2\n",
            "0\n",
            "[1, 1, 1, 0, 1]\n",
            "1\n",
            "0\n",
            "[1, 1, 1, 1, 1]\n",
            "0\n",
            "0\n",
            "\n",
            " depois \n",
            "\n",
            "[1, 0, 1, 1, 1]\n",
            "3\n",
            "0\n",
            "[1, 1, 0, 1, 1]\n",
            "2\n",
            "0\n",
            "[1, 1, 1, 0, 1]\n",
            "1\n",
            "0\n",
            "[1, 1, 1, 1, 1]\n",
            "0\n",
            "0\n",
            "\n",
            " depois2 \n",
            "\n",
            "[1, 1, 1, 1, 1]\n",
            "0\n",
            "0\n",
            "[1, 1, 1, 0, 1]\n",
            "1\n",
            "0\n"
          ]
        },
        {
          "output_type": "error",
          "ename": "IndexError",
          "evalue": "ignored",
          "traceback": [
            "\u001b[0;31m---------------------------------------------------------------------------\u001b[0m",
            "\u001b[0;31mIndexError\u001b[0m                                Traceback (most recent call last)",
            "\u001b[0;32m<ipython-input-14-4077dbc03f61>\u001b[0m in \u001b[0;36m<module>\u001b[0;34m\u001b[0m\n\u001b[1;32m     49\u001b[0m \u001b[0mc\u001b[0m\u001b[0;34m.\u001b[0m\u001b[0mappend\u001b[0m\u001b[0;34m(\u001b[0m\u001b[0mb\u001b[0m\u001b[0;34m)\u001b[0m\u001b[0;34m\u001b[0m\u001b[0;34m\u001b[0m\u001b[0m\n\u001b[1;32m     50\u001b[0m \u001b[0;32mfor\u001b[0m \u001b[0mi\u001b[0m \u001b[0;32min\u001b[0m \u001b[0mrange\u001b[0m\u001b[0;34m(\u001b[0m\u001b[0;36m3\u001b[0m\u001b[0;34m)\u001b[0m\u001b[0;34m:\u001b[0m\u001b[0;34m\u001b[0m\u001b[0;34m\u001b[0m\u001b[0m\n\u001b[0;32m---> 51\u001b[0;31m   \u001b[0mprint\u001b[0m\u001b[0;34m(\u001b[0m\u001b[0mc\u001b[0m\u001b[0;34m[\u001b[0m\u001b[0mi\u001b[0m\u001b[0;34m]\u001b[0m\u001b[0;34m.\u001b[0m\u001b[0mvetor\u001b[0m\u001b[0;34m)\u001b[0m\u001b[0;34m\u001b[0m\u001b[0;34m\u001b[0m\u001b[0m\n\u001b[0m\u001b[1;32m     52\u001b[0m   \u001b[0mprint\u001b[0m\u001b[0;34m(\u001b[0m\u001b[0mc\u001b[0m\u001b[0;34m[\u001b[0m\u001b[0mi\u001b[0m\u001b[0;34m]\u001b[0m\u001b[0;34m.\u001b[0m\u001b[0mfit\u001b[0m\u001b[0;34m)\u001b[0m\u001b[0;34m\u001b[0m\u001b[0;34m\u001b[0m\u001b[0m\n\u001b[1;32m     53\u001b[0m   \u001b[0mprint\u001b[0m\u001b[0;34m(\u001b[0m\u001b[0mc\u001b[0m\u001b[0;34m[\u001b[0m\u001b[0mi\u001b[0m\u001b[0;34m]\u001b[0m\u001b[0;34m.\u001b[0m\u001b[0mpeso\u001b[0m\u001b[0;34m)\u001b[0m\u001b[0;34m\u001b[0m\u001b[0;34m\u001b[0m\u001b[0m\n",
            "\u001b[0;31mIndexError\u001b[0m: list index out of range"
          ]
        }
      ]
    },
    {
      "cell_type": "code",
      "source": [
        "  #for i in range(g):\n",
        "    #print(\"Selecionados: \",Selecionados[i].vetor,\"fit: \",Selecionados[i].fit,\"Peso: \",Selecionados[i].peso)\n",
        "\n",
        "  # ----------------- Aplicar Crossover na par de selecionados ---------------\n",
        "  #print(\"\\n Selecionar os indivídos para o CROSSOVER (100%):..\\n\")\n",
        "  \n",
        " # Vetor com o obj população\n",
        "  aux2 = Selecionados.copy()\n",
        "  g_copy = g\n",
        "  cont = 0\n",
        "  while (g_copy > 0):\n",
        "    if (cont +1 < g):\n",
        "      #Vetor_C1,Vetor_C2 = crossover1point(Selecionados[cont].vetor,Selecionados[cont+1].vetor,p)\n",
        "      print(cont)\n",
        "      \n",
        "      \n",
        "      cont += 2\n",
        "    # else:\n",
        "    #   Sel_Crossover.append(Selecionados[cont])\n",
        "    g_copy -= 2"
      ],
      "metadata": {
        "id": "ChchxW9LUZRl"
      },
      "execution_count": null,
      "outputs": []
    },
    {
      "cell_type": "code",
      "source": [
        "while(True):\n",
        "  a = randint(0,500)\n",
        "  print(a)\n",
        "  if(a == 500):\n",
        "    break\n",
        "print(a)"
      ],
      "metadata": {
        "id": "OCBlbLfAarsP"
      },
      "execution_count": null,
      "outputs": []
    },
    {
      "cell_type": "code",
      "source": [
        "Comunidade_Nova[cont].peso < pesomax and Comunidade_Nova[cont].peso > pesomax*0.9"
      ],
      "metadata": {
        "id": "La_dC-RteFKL"
      },
      "execution_count": null,
      "outputs": []
    }
  ]
}
