{
  "nbformat": 4,
  "nbformat_minor": 0,
  "metadata": {
    "colab": {
      "provenance": []
    },
    "kernelspec": {
      "name": "python3",
      "display_name": "Python 3"
    },
    "language_info": {
      "name": "python"
    }
  },
  "cells": [
    {
      "cell_type": "code",
      "source": [
        "pip install decision-tree-id3"
      ],
      "metadata": {
        "id": "unTKxfCdc36z",
        "outputId": "c76c3ad8-ed4e-4035-9887-71a3e2448216",
        "colab": {
          "base_uri": "https://localhost:8080/"
        }
      },
      "execution_count": 1,
      "outputs": [
        {
          "output_type": "stream",
          "name": "stdout",
          "text": [
            "Collecting decision-tree-id3\n",
            "  Downloading decision-tree-id3-0.1.2.tar.gz (12 kB)\n",
            "  Preparing metadata (setup.py) ... \u001b[?25l\u001b[?25hdone\n",
            "Collecting nose>=1.1.2 (from decision-tree-id3)\n",
            "  Downloading nose-1.3.7-py3-none-any.whl.metadata (1.7 kB)\n",
            "Requirement already satisfied: scikit-learn>=0.17 in /usr/local/lib/python3.12/dist-packages (from decision-tree-id3) (1.6.1)\n",
            "Requirement already satisfied: numpy>=1.6.1 in /usr/local/lib/python3.12/dist-packages (from decision-tree-id3) (2.0.2)\n",
            "Requirement already satisfied: scipy>=1.6.0 in /usr/local/lib/python3.12/dist-packages (from scikit-learn>=0.17->decision-tree-id3) (1.16.2)\n",
            "Requirement already satisfied: joblib>=1.2.0 in /usr/local/lib/python3.12/dist-packages (from scikit-learn>=0.17->decision-tree-id3) (1.5.2)\n",
            "Requirement already satisfied: threadpoolctl>=3.1.0 in /usr/local/lib/python3.12/dist-packages (from scikit-learn>=0.17->decision-tree-id3) (3.6.0)\n",
            "Downloading nose-1.3.7-py3-none-any.whl (154 kB)\n",
            "\u001b[2K   \u001b[90m━━━━━━━━━━━━━━━━━━━━━━━━━━━━━━━━━━━━━━━━\u001b[0m \u001b[32m154.7/154.7 kB\u001b[0m \u001b[31m3.3 MB/s\u001b[0m eta \u001b[36m0:00:00\u001b[0m\n",
            "\u001b[?25hBuilding wheels for collected packages: decision-tree-id3\n",
            "  Building wheel for decision-tree-id3 (setup.py) ... \u001b[?25l\u001b[?25hdone\n",
            "  Created wheel for decision-tree-id3: filename=decision_tree_id3-0.1.2-py3-none-any.whl size=15940 sha256=5299b8f07f78c736754971a1c43be5a381baf3312c22dcf5de79877f797ab653\n",
            "  Stored in directory: /root/.cache/pip/wheels/8c/cd/e4/e2acaaf5eea93ac56371528d7aee422950510b631443217c77\n",
            "Successfully built decision-tree-id3\n",
            "Installing collected packages: nose, decision-tree-id3\n",
            "Successfully installed decision-tree-id3-0.1.2 nose-1.3.7\n"
          ]
        }
      ]
    },
    {
      "cell_type": "code",
      "source": [
        "pip install pandas"
      ],
      "metadata": {
        "id": "9sgDqUp3dIyq"
      },
      "execution_count": null,
      "outputs": []
    },
    {
      "cell_type": "code",
      "source": [
        "pip install numpy"
      ],
      "metadata": {
        "id": "VSVwyWDqdIpa"
      },
      "execution_count": null,
      "outputs": []
    },
    {
      "cell_type": "code",
      "source": [
        "pip install scikit-learn"
      ],
      "metadata": {
        "id": "nyBn68pPdIgG"
      },
      "execution_count": null,
      "outputs": []
    },
    {
      "cell_type": "code",
      "source": [
        "pip install six"
      ],
      "metadata": {
        "id": "-iDVInBXWrlP"
      },
      "execution_count": null,
      "outputs": []
    },
    {
      "cell_type": "markdown",
      "source": [
        "Apos intalar os Arquivos nescessário, e preciso importar as funções que seram nescessária na execução no código\n",
        "\n",
        "**six:** Biblioteca usada para gerar uma compartibilidades dentre as varias versões do python, assim um comando de uma versão python antigo funcionária numa mais nova;\n",
        "\n",
        "**pandas:** Possui funções que são essencias na analise e manipulação de dados, planilhas eletrônicas.\n",
        "\n",
        "**numpy:** Possui funções que auxilam na execução de calculos númericos, usando em calculos de array(matrizes) multidimensionais;\n",
        "\n",
        "**scikit_learn**: Contem bibliotexa de machine learning, inclui algoritmo de classificação, regreção e agrupamento.\n",
        "\n",
        "**decision_tree-id3**: Usado para definir a intropia, atravez do algoritmo id3 contindo na biblioteca\n"
      ],
      "metadata": {
        "id": "OoPD-0p_X3VV"
      }
    },
    {
      "cell_type": "code",
      "source": [
        "#importa as funções que seram usadas no códigos, todas as elas referenciaas as\n",
        "#bibliotecas instala no campo anterior\n",
        "import six\n",
        "import sys\n",
        "sys.modules['sklearn.externals.six'] = six\n",
        "import pandas as pd\n",
        "from sklearn.preprocessing import LabelEncoder\n",
        "from id3 import Id3Estimator\n",
        "from id3 import export_graphviz\n",
        "import numpy as np"
      ],
      "metadata": {
        "id": "VExh-PLOXKxt"
      },
      "execution_count": null,
      "outputs": []
    },
    {
      "cell_type": "code",
      "source": [
        "#Faz leitura do Arquivo com as informações para montar a árvore, caso seja um\n",
        "#arquivo em csv, coloca-se o 'sep = ;' para delemitar os campos, e conseguir\n",
        "#separar de forma correta nos proximos passos\n",
        "arquivo = pd.read_csv('dadosIA.csv')"
      ],
      "metadata": {
        "id": "FLqoKwmqXQcU"
      },
      "execution_count": null,
      "outputs": []
    },
    {
      "cell_type": "markdown",
      "source": [
        "Precisa fazer agora a serparação dos valores;\n",
        "\n",
        "-- Na primeiro etapa e precisa definir os previsores, que são as variaveis observaveis do projeto, que também são os atributos.\n",
        "\n",
        "-- Na Segunda etapa separa quem será a classe, que um atributos que dependentes de outros para definir seu valor.\n",
        "\n",
        "-- Na Terceira seleciona os nomes dos atributos, ou nomes dos arquivos."
      ],
      "metadata": {
        "id": "geflQ5_NhjRF"
      }
    },
    {
      "cell_type": "code",
      "source": [
        "# Seleciona atravez do iloc, todas as linhas com o (\":\"),e as colunas que começa no 0 e vai ate a coluna 9.\n",
        "# O \".values\" indica que esta pegando o valor dessa coluna\n",
        "previsores = arquivo.iloc[:,0:9].values\n",
        "print(previsores)\n",
        "\n",
        "#Seleciona, todas as linhas, e apenas a coluna que contem a classe\n",
        "classe = arquivo.iloc[:,9].values\n",
        "print(classe)\n",
        "\n",
        "#Seleciona, todas as linhas e colunas da tabela, porem so irá pegar os nome que\n",
        "#corresponde a cada colunas\n",
        "colunas = np.asarray(arquivo.columns[0:9])\n",
        "print(colunas);"
      ],
      "metadata": {
        "id": "harBStuSgbvI"
      },
      "execution_count": null,
      "outputs": []
    },
    {
      "cell_type": "markdown",
      "source": [
        "Apois isso será feita uma conversão das váriaveis, na planilhas ela consta valores categoricas, valores que definiam um atributos, para que possa fazer os calculos subsequentes e preciso transforma-los em números. Comando usado: labelencoder.fit_transform"
      ],
      "metadata": {
        "id": "nmf1eL9tqR_2"
      }
    },
    {
      "cell_type": "code",
      "source": [
        "#Transforma váriaveis categoricas em númericas\n",
        "labelencoder = LabelEncoder()\n",
        "previsores[:,0] = labelencoder.fit_transform(previsores[:,0])\n",
        "previsores[:,1] = labelencoder.fit_transform(previsores[:,1])\n",
        "previsores[:,2] = labelencoder.fit_transform(previsores[:,2])\n",
        "previsores[:,3] = labelencoder.fit_transform(previsores[:,3])\n",
        "previsores[:,4] = labelencoder.fit_transform(previsores[:,4])\n",
        "previsores[:,5] = labelencoder.fit_transform(previsores[:,5])\n",
        "previsores[:,6] = labelencoder.fit_transform(previsores[:,6])\n",
        "previsores[:,7] = labelencoder.fit_transform(previsores[:,7])\n",
        "previsores[:,8] = labelencoder.fit_transform(previsores[:,8])\n",
        "print(\"Depois da transformação:\")\n",
        "print(previsores)"
      ],
      "metadata": {
        "colab": {
          "base_uri": "https://localhost:8080/"
        },
        "id": "MnUQ3PH7gbq0",
        "outputId": "6368af6e-3623-4b94-b097-abb245b93877"
      },
      "execution_count": null,
      "outputs": [
        {
          "output_type": "stream",
          "name": "stdout",
          "text": [
            "Depois da transformação:\n",
            "[[2 2 2 ... 2 1 1]\n",
            " [2 2 2 ... 1 2 1]\n",
            " [2 2 2 ... 1 1 2]\n",
            " ...\n",
            " [1 2 1 ... 2 1 2]\n",
            " [1 2 1 ... 2 1 2]\n",
            " [1 1 2 ... 1 2 2]]\n"
          ]
        }
      ]
    },
    {
      "cell_type": "markdown",
      "source": [
        "Parte Final do código, Nessa parte será feito o cálculo do estimator,usando o argoritmo id3, que se encontra na biblioteca decision-tree-id3;\n",
        "\n",
        "Nesse passo o estimator ira receber o construtor da classe Estimator, tornando então o estimator como uma intancia dessa classe contendo todos os atributos\n",
        "\n",
        "função .fit, ira criar a arvore de decison basendo nos valores da amostra X (representa os provisores, as variáveis independentes) e seus correspondentes em y (representa os valores da classe).\n",
        "\n",
        "Nessa função e utilizado o algortimo ID3, em que calcula para cada atributo seu valor de intropia, e seguinda estibula o ganho de informação baseado no atributo de maior intropia.\n",
        "\n",
        "Em seguida e guardado na variavel um arquivo contendo o código para mostrar a arvore num interface grafica.\n",
        "estimator.tree: E uma instancia do estimator cpara criar a arvore.\n"
      ],
      "metadata": {
        "id": "R-O0peIQuXnY"
      }
    },
    {
      "cell_type": "markdown",
      "source": [],
      "metadata": {
        "id": "SgVNjFu_iS9r"
      }
    },
    {
      "cell_type": "code",
      "source": [
        "#Treina a árvore e exporta o resultado\n",
        "#varivel estimator ira receber o retorno da função Id3Estimator\n",
        "estimator = Id3Estimator()\n",
        "\n",
        "#Criar a arvore decisão, como base no ganho de informação estipulada anteriormente\n",
        "estimator.fit(previsores, classe)\n",
        "t = export_graphviz(estimator.tree_, 'dadosIA.dot', colunas)"
      ],
      "metadata": {
        "id": "SCEsqi5vgbl0"
      },
      "execution_count": null,
      "outputs": []
    },
    {
      "cell_type": "code",
      "source": [
        "print(previsores)\n",
        "print(classe)\n",
        "\n",
        "#Para ver a imagem da árvore copia o texto do arquivo neste site:\n",
        "#https://dreampuf.github.io/GraphvizOnline/"
      ],
      "metadata": {
        "id": "gKEXfff9gbgU"
      },
      "execution_count": null,
      "outputs": []
    },
    {
      "cell_type": "code",
      "source": [],
      "metadata": {
        "id": "ThiPVgq6gbW2"
      },
      "execution_count": null,
      "outputs": []
    }
  ]
}