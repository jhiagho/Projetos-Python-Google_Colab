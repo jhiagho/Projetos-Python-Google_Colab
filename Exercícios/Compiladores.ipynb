{
  "nbformat": 4,
  "nbformat_minor": 0,
  "metadata": {
    "colab": {
      "provenance": []
    },
    "kernelspec": {
      "name": "python3",
      "display_name": "Python 3"
    },
    "language_info": {
      "name": "python"
    }
  },
  "cells": [
    {
      "cell_type": "code",
      "source": [
        "token = \"entre um numero\"\n",
        "token.replace('\"',' ')\n",
        "token"
      ],
      "metadata": {
        "colab": {
          "base_uri": "https://localhost:8080/",
          "height": 35
        },
        "id": "gGEuEgfG1hQk",
        "outputId": "e0a75f82-7f95-4722-c626-e13d14d28cad"
      },
      "execution_count": null,
      "outputs": [
        {
          "output_type": "execute_result",
          "data": {
            "text/plain": [
              "'entre um numero'"
            ],
            "application/vnd.google.colaboratory.intrinsic+json": {
              "type": "string"
            }
          },
          "metadata": {},
          "execution_count": 143
        }
      ]
    },
    {
      "cell_type": "code",
      "source": [
        "#crie um arquivo vazio em branco para ser escrito posteriormente.\n",
        "with open('saida.txt', 'x') as f_saida:\n",
        "  pass\n",
        "\n",
        "with open('nova_entrada.txt', 'x') as f_ent:\n",
        "  pass"
      ],
      "metadata": {
        "id": "BY4dfffXKtia"
      },
      "execution_count": null,
      "outputs": []
    },
    {
      "cell_type": "code",
      "source": [
        "with open('entrada.txt', 'r') as arquivo:\n",
        "  with open('nova_entrada.txt', 'w') as arquivo_saida:\n",
        "      dentro_de_frase = False\n",
        "      for linha in arquivo:\n",
        "          nova_linha = \"\"\n",
        "          for caractere in linha:\n",
        "              if caractere == \"\\\"\":\n",
        "                  dentro_de_frase = not dentro_de_frase\n",
        "              if dentro_de_frase or caractere not in ['(', ':', ';', ')']:\n",
        "                  nova_linha += caractere\n",
        "              else:\n",
        "                  nova_linha += \" \" + caractere + \" \"\n",
        "          arquivo_saida.write(nova_linha)"
      ],
      "metadata": {
        "id": "8xqYb650mW7U"
      },
      "execution_count": null,
      "outputs": []
    },
    {
      "cell_type": "code",
      "source": [
        "# difina em uma lista todas as palavras reservadas, caso selecione uma das palavras reservadas o a lista retorna seu correspondente.\n",
        "palavras_reservadas = ['start', 'var', 'read','if','(',')',':',';','end','write','then']\n",
        "list_id = []\n",
        "token_Ol = ['<','>','=']\n",
        "token_Om = ['+','*','/','-']\n",
        "token_Cl = ['AND','OR','NOT']"
      ],
      "metadata": {
        "id": "c9XPfdX-LBIn"
      },
      "execution_count": null,
      "outputs": []
    },
    {
      "cell_type": "code",
      "source": [
        "# função que procurar um token do tipo id. Verifica se ele esta na lista ou não. Se tiver apenas retorna a posição dele no formato correto.\n",
        "# Caso não adiciona esse token na lista, e seguida retorna a posição.\n",
        "def procurar_id(token):\n",
        "    if not token in list_id:\n",
        "        list_id.append(token)\n",
        "    texto_id = '[id,' + str(list_id.index(token)+1) + ']'\n",
        "    return texto_id"
      ],
      "metadata": {
        "id": "0cs8in64K_Eg"
      },
      "execution_count": null,
      "outputs": []
    },
    {
      "cell_type": "code",
      "source": [
        "#função principal irá procurar token por token e dar os devidos processedimentos para ele\n",
        "def procurar_token(token):\n",
        "    if token in palavras_reservadas:\n",
        "        ind = palavras_reservadas.index(token)\n",
        "        texto = '[' + palavras_reservadas[ind] + ',]'\n",
        "        return texto\n",
        "\n",
        "    #função isalpha() verifica se o token e alfanumérico apenas, igonorando número.\n",
        "    elif token.isalpha():\n",
        "        return procurar_id(token)\n",
        "\n",
        "    #função isdigit() verifica se um digito.\n",
        "    elif token.isdigit():\n",
        "        texto_num = '[Nu,' + token + ']'\n",
        "        return texto_num\n",
        "\n",
        "    #função .startswith e .endswith('\"') verifica se uma palavra que começa e termina com \"\".\n",
        "    #função replace, troca os aspas por espaço em branco.\n",
        "    elif token.startswith('\"') or token.endswith('\"'):\n",
        "        token_r = token.replace('\"',' ')\n",
        "        token_s = token_r.strip()\n",
        "        texto_Fr = '[Fr,' + token_s + ']'\n",
        "        return texto_Fr\n",
        "\n",
        "    #função verifica se possui na lista, e retorna a o formato correto de apresentação.\n",
        "    elif token in token_Ol:\n",
        "        ind = token_Ol.index(token)\n",
        "        texto = '[Ol,' + token_Ol[ind] + ']'\n",
        "        return texto\n",
        "\n",
        "    elif token in token_Om:\n",
        "        ind = token_Om.index(token)\n",
        "        texto = '[Om,' + token_Om[ind] + ']'\n",
        "        return texto\n",
        "\n",
        "    elif token in token_Cl:\n",
        "        texto = '[Cl,' + token_Cl[ind] + ']'\n",
        "        return texto\n",
        "\n",
        "    #não encontrou padrão, mandar erro.\n",
        "    else:\n",
        "        return 0;"
      ],
      "metadata": {
        "id": "j_1o4TB1K7gZ"
      },
      "execution_count": null,
      "outputs": []
    },
    {
      "cell_type": "code",
      "source": [
        "cont = 0\n",
        "parentese = ''\n",
        "flag_frase_valida = False\n",
        "with open('nova_entrada.txt', 'r') as f_entrada:\n",
        "  with open('saida.txt', 'w') as f_saida:\n",
        "      for linha in f_entrada:\n",
        "          linha_separada = linha.split()\n",
        "          print(\"Entrada: \",linha_separada)\n",
        "          linha_modificada = ''\n",
        "          for i in range(len(linha_separada)):\n",
        "\n",
        "            #verificar aspas\n",
        "            if linha_separada[i].startswith('\"') or flag_frase_valida:\n",
        "              lin = linha_separada[i]\n",
        "              parentese += lin + ' '\n",
        "              if linha_separada[i].endswith('\"'):\n",
        "                  flag_frase_valida = False\n",
        "                  parentese.strip()\n",
        "                  linha_modificada = linha_modificada + procurar_token(parentese)\n",
        "                  parentese = ''\n",
        "                  continue\n",
        "              else:\n",
        "                  flag_frase_valida = True\n",
        "\n",
        "            if not flag_frase_valida:\n",
        "              linha_modificada = linha_modificada + procurar_token(linha_separada[i])\n",
        "          print(\"saida: \", linha_modificada)\n",
        "          f_saida.write(linha_modificada + '\\n')"
      ],
      "metadata": {
        "colab": {
          "base_uri": "https://localhost:8080/"
        },
        "id": "w6VuJDm9KvXR",
        "outputId": "5d592f57-4b3a-41a4-dd5a-fa282c023b01"
      },
      "execution_count": null,
      "outputs": [
        {
          "output_type": "stream",
          "name": "stdout",
          "text": [
            "Entrada:  ['var', 'x', ';']\n",
            "saida:  [var,][id,1][;,]\n",
            "Entrada:  ['var', 'numa', ';']\n",
            "saida:  [var,][id,2][;,]\n",
            "Entrada:  ['write', '(', '\"entre', 'um', 'numero\"', ')', ';']\n",
            "\"entre um numero\" \n",
            " entre um numero  \n",
            "entre um numero\n",
            "saida:  [write,][(,][Fr,entre um numero][),][;,]\n",
            "Entrada:  ['read', 'numa', ';']\n",
            "saida:  [read,][id,2][;,]\n",
            "Entrada:  ['x', ':', '10', ';']\n",
            "saida:  [id,1][:,][Nu,10][;,]\n",
            "Entrada:  ['if', '(', 'numa', '<', 'x', ')']\n",
            "saida:  [if,][(,][id,2][Ol,<][id,1][),]\n",
            "Entrada:  ['write', '(', '\"Unidade', 'é:\"', ')', ';']\n",
            "\"Unidade é:\" \n",
            " Unidade é:  \n",
            "Unidade é:\n",
            "saida:  [write,][(,][Fr,Unidade é:][),][;,]\n",
            "Entrada:  ['write', 'numa', ';']\n",
            "saida:  [write,][id,2][;,]\n"
          ]
        }
      ]
    }
  ]
}